{
 "cells": [
  {
   "cell_type": "code",
   "execution_count": 9,
   "id": "9398b88f",
   "metadata": {},
   "outputs": [],
   "source": [
    "import seaborn as sns\n",
    "import matplotlib.pyplot as plt\n",
    "import pandas as pd\n",
    "import numpy as np"
   ]
  },
  {
   "cell_type": "code",
   "execution_count": 10,
   "id": "99e521f1",
   "metadata": {},
   "outputs": [
    {
     "data": {
      "text/html": [
       "<div>\n",
       "<style scoped>\n",
       "    .dataframe tbody tr th:only-of-type {\n",
       "        vertical-align: middle;\n",
       "    }\n",
       "\n",
       "    .dataframe tbody tr th {\n",
       "        vertical-align: top;\n",
       "    }\n",
       "\n",
       "    .dataframe thead th {\n",
       "        text-align: right;\n",
       "    }\n",
       "</style>\n",
       "<table border=\"1\" class=\"dataframe\">\n",
       "  <thead>\n",
       "    <tr style=\"text-align: right;\">\n",
       "      <th></th>\n",
       "      <th>Rok</th>\n",
       "      <th>Imie</th>\n",
       "      <th>Liczba</th>\n",
       "      <th>Plec</th>\n",
       "    </tr>\n",
       "  </thead>\n",
       "  <tbody>\n",
       "    <tr>\n",
       "      <th>0</th>\n",
       "      <td>2000</td>\n",
       "      <td>JAKUB</td>\n",
       "      <td>14497</td>\n",
       "      <td>M</td>\n",
       "    </tr>\n",
       "    <tr>\n",
       "      <th>1</th>\n",
       "      <td>2000</td>\n",
       "      <td>MATEUSZ</td>\n",
       "      <td>11454</td>\n",
       "      <td>M</td>\n",
       "    </tr>\n",
       "    <tr>\n",
       "      <th>2</th>\n",
       "      <td>2000</td>\n",
       "      <td>KACPER</td>\n",
       "      <td>8898</td>\n",
       "      <td>M</td>\n",
       "    </tr>\n",
       "    <tr>\n",
       "      <th>3</th>\n",
       "      <td>2000</td>\n",
       "      <td>MICHAŁ</td>\n",
       "      <td>8498</td>\n",
       "      <td>M</td>\n",
       "    </tr>\n",
       "    <tr>\n",
       "      <th>4</th>\n",
       "      <td>2000</td>\n",
       "      <td>PATRYK</td>\n",
       "      <td>7743</td>\n",
       "      <td>M</td>\n",
       "    </tr>\n",
       "  </tbody>\n",
       "</table>\n",
       "</div>"
      ],
      "text/plain": [
       "    Rok     Imie  Liczba Plec\n",
       "0  2000    JAKUB   14497    M\n",
       "1  2000  MATEUSZ   11454    M\n",
       "2  2000   KACPER    8898    M\n",
       "3  2000   MICHAŁ    8498    M\n",
       "4  2000   PATRYK    7743    M"
      ]
     },
     "execution_count": 10,
     "metadata": {},
     "output_type": "execute_result"
    }
   ],
   "source": [
    "df = pd.read_excel('./imiona.xlsx')\n",
    "df.head()"
   ]
  },
  {
   "cell_type": "code",
   "execution_count": 12,
   "id": "6c6fe4f3",
   "metadata": {
    "scrolled": true
   },
   "outputs": [],
   "source": [
    "data = df[\n",
    "    (df['Rok'] > 2010) & (df['Rok'] <=2015)\n",
    "]"
   ]
  },
  {
   "cell_type": "code",
   "execution_count": 13,
   "id": "bf865e90",
   "metadata": {},
   "outputs": [
    {
     "data": {
      "text/plain": [
       "<AxesSubplot:xlabel='Rok', ylabel='count'>"
      ]
     },
     "execution_count": 13,
     "metadata": {},
     "output_type": "execute_result"
    },
    {
     "data": {
      "image/png": "[encoded data removed]",
      "text/plain": [
       "<Figure size 432x288 with 1 Axes>"
      ]
     },
     "metadata": {
      "needs_background": "light"
     },
     "output_type": "display_data"
    }
   ],
   "source": [
    "sns.countplot(\n",
    "    x='Rok',\n",
    "    hue='Plec',\n",
    "    data=data\n",
    ")"
   ]
  },
  {
   "cell_type": "code",
   "execution_count": 14,
   "id": "094cb20e",
   "metadata": {},
   "outputs": [
    {
     "data": {
      "text/html": [
       "<div>\n",
       "<style scoped>\n",
       "    .dataframe tbody tr th:only-of-type {\n",
       "        vertical-align: middle;\n",
       "    }\n",
       "\n",
       "    .dataframe tbody tr th {\n",
       "        vertical-align: top;\n",
       "    }\n",
       "\n",
       "    .dataframe thead tr th {\n",
       "        text-align: left;\n",
       "    }\n",
       "\n",
       "    .dataframe thead tr:last-of-type th {\n",
       "        text-align: right;\n",
       "    }\n",
       "</style>\n",
       "<table border=\"1\" class=\"dataframe\">\n",
       "  <thead>\n",
       "    <tr>\n",
       "      <th></th>\n",
       "      <th>Liczba</th>\n",
       "    </tr>\n",
       "    <tr>\n",
       "      <th></th>\n",
       "      <th>sum</th>\n",
       "    </tr>\n",
       "    <tr>\n",
       "      <th>Imie</th>\n",
       "      <th></th>\n",
       "    </tr>\n",
       "  </thead>\n",
       "  <tbody>\n",
       "    <tr>\n",
       "      <th>JAKUB</th>\n",
       "      <td>249204</td>\n",
       "    </tr>\n",
       "    <tr>\n",
       "      <th>KACPER</th>\n",
       "      <td>172990</td>\n",
       "    </tr>\n",
       "    <tr>\n",
       "      <th>MATEUSZ</th>\n",
       "      <td>136824</td>\n",
       "    </tr>\n",
       "    <tr>\n",
       "      <th>SZYMON</th>\n",
       "      <td>131675</td>\n",
       "    </tr>\n",
       "    <tr>\n",
       "      <th>MICHAŁ</th>\n",
       "      <td>120508</td>\n",
       "    </tr>\n",
       "    <tr>\n",
       "      <th>...</th>\n",
       "      <td>...</td>\n",
       "    </tr>\n",
       "    <tr>\n",
       "      <th>SABRI</th>\n",
       "      <td>5</td>\n",
       "    </tr>\n",
       "    <tr>\n",
       "      <th>LEV</th>\n",
       "      <td>5</td>\n",
       "    </tr>\n",
       "    <tr>\n",
       "      <th>SAID</th>\n",
       "      <td>5</td>\n",
       "    </tr>\n",
       "    <tr>\n",
       "      <th>LEONIDAS</th>\n",
       "      <td>5</td>\n",
       "    </tr>\n",
       "    <tr>\n",
       "      <th>CONOR</th>\n",
       "      <td>5</td>\n",
       "    </tr>\n",
       "  </tbody>\n",
       "</table>\n",
       "<p>810 rows × 1 columns</p>\n",
       "</div>"
      ],
      "text/plain": [
       "          Liczba\n",
       "             sum\n",
       "Imie            \n",
       "JAKUB     249204\n",
       "KACPER    172990\n",
       "MATEUSZ   136824\n",
       "SZYMON    131675\n",
       "MICHAŁ    120508\n",
       "...          ...\n",
       "SABRI          5\n",
       "LEV            5\n",
       "SAID           5\n",
       "LEONIDAS       5\n",
       "CONOR          5\n",
       "\n",
       "[810 rows x 1 columns]"
      ]
     },
     "execution_count": 14,
     "metadata": {},
     "output_type": "execute_result"
    }
   ],
   "source": [
    "dataM = df[df.Plec == 'M'].groupby(['Imie']).agg({'Liczba': ['sum']}).sort_values(by=('Liczba','sum'))[::-1]\n",
    "dataM"
   ]
  },
  {
   "cell_type": "code",
   "execution_count": 15,
   "id": "939483c2",
   "metadata": {},
   "outputs": [
    {
     "data": {
      "text/html": [
       "<div>\n",
       "<style scoped>\n",
       "    .dataframe tbody tr th:only-of-type {\n",
       "        vertical-align: middle;\n",
       "    }\n",
       "\n",
       "    .dataframe tbody tr th {\n",
       "        vertical-align: top;\n",
       "    }\n",
       "\n",
       "    .dataframe thead tr th {\n",
       "        text-align: left;\n",
       "    }\n",
       "\n",
       "    .dataframe thead tr:last-of-type th {\n",
       "        text-align: right;\n",
       "    }\n",
       "</style>\n",
       "<table border=\"1\" class=\"dataframe\">\n",
       "  <thead>\n",
       "    <tr>\n",
       "      <th></th>\n",
       "      <th>Liczba</th>\n",
       "    </tr>\n",
       "    <tr>\n",
       "      <th></th>\n",
       "      <th>sum</th>\n",
       "    </tr>\n",
       "    <tr>\n",
       "      <th>Imie</th>\n",
       "      <th></th>\n",
       "    </tr>\n",
       "  </thead>\n",
       "  <tbody>\n",
       "    <tr>\n",
       "      <th>JULIA</th>\n",
       "      <td>229572</td>\n",
       "    </tr>\n",
       "    <tr>\n",
       "      <th>WIKTORIA</th>\n",
       "      <td>158573</td>\n",
       "    </tr>\n",
       "    <tr>\n",
       "      <th>ZUZANNA</th>\n",
       "      <td>147258</td>\n",
       "    </tr>\n",
       "    <tr>\n",
       "      <th>NATALIA</th>\n",
       "      <td>139677</td>\n",
       "    </tr>\n",
       "    <tr>\n",
       "      <th>ALEKSANDRA</th>\n",
       "      <td>135569</td>\n",
       "    </tr>\n",
       "    <tr>\n",
       "      <th>...</th>\n",
       "      <td>...</td>\n",
       "    </tr>\n",
       "    <tr>\n",
       "      <th>GILI</th>\n",
       "      <td>5</td>\n",
       "    </tr>\n",
       "    <tr>\n",
       "      <th>GALI</th>\n",
       "      <td>5</td>\n",
       "    </tr>\n",
       "    <tr>\n",
       "      <th>LAWINIA</th>\n",
       "      <td>5</td>\n",
       "    </tr>\n",
       "    <tr>\n",
       "      <th>WIESŁAWA</th>\n",
       "      <td>5</td>\n",
       "    </tr>\n",
       "    <tr>\n",
       "      <th>DILARA</th>\n",
       "      <td>5</td>\n",
       "    </tr>\n",
       "  </tbody>\n",
       "</table>\n",
       "<p>834 rows × 1 columns</p>\n",
       "</div>"
      ],
      "text/plain": [
       "            Liczba\n",
       "               sum\n",
       "Imie              \n",
       "JULIA       229572\n",
       "WIKTORIA    158573\n",
       "ZUZANNA     147258\n",
       "NATALIA     139677\n",
       "ALEKSANDRA  135569\n",
       "...            ...\n",
       "GILI             5\n",
       "GALI             5\n",
       "LAWINIA          5\n",
       "WIESŁAWA         5\n",
       "DILARA           5\n",
       "\n",
       "[834 rows x 1 columns]"
      ]
     },
     "execution_count": 15,
     "metadata": {},
     "output_type": "execute_result"
    }
   ],
   "source": [
    "dataK = df[df.Plec == 'K'].groupby(['Imie']).agg({'Liczba': ['sum']}).sort_values(by=('Liczba','sum'))[::-1]\n",
    "dataK"
   ]
  },
  {
   "cell_type": "code",
   "execution_count": 16,
   "id": "3eafd18b",
   "metadata": {},
   "outputs": [
    {
     "data": {
      "text/plain": [
       "98"
      ]
     },
     "execution_count": 16,
     "metadata": {},
     "output_type": "execute_result"
    }
   ],
   "source": [
    "list = []\n",
    "for x in df.Imie:\n",
    "    if x[0]=='K':\n",
    "        list.append(x)\n",
    "\n",
    "wynik = []\n",
    "for x in list:\n",
    "    if x not in wynik:\n",
    "        wynik.append(x)\n",
    "\n",
    "len(wynik)"
   ]
  },
  {
   "cell_type": "code",
   "execution_count": null,
   "id": "26416a5b",
   "metadata": {},
   "outputs": [],
   "source": []
  }
 ],
 "metadata": {
  "kernelspec": {
   "display_name": "Python 3 (ipykernel)",
   "language": "python",
   "name": "python3"
  },
  "language_info": {
   "codemirror_mode": {
    "name": "ipython",
    "version": 3
   },
   "file_extension": ".py",
   "mimetype": "text/x-python",
   "name": "python",
   "nbconvert_exporter": "python",
   "pygments_lexer": "ipython3",
   "version": "3.9.7"
  }
 },
 "nbformat": 4,
 "nbformat_minor": 5
}
